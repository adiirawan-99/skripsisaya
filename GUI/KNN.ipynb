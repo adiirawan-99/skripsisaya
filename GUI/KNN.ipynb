{
 "cells": [
  {
   "cell_type": "code",
   "execution_count": 2,
   "id": "5daedb6c",
   "metadata": {},
   "outputs": [],
   "source": [
    "import pickle"
   ]
  },
  {
   "cell_type": "code",
   "execution_count": 3,
   "id": "5e20aa7a",
   "metadata": {},
   "outputs": [],
   "source": [
    "#Menggunakan file hasil HSV yang telah dibuar dalam bentuk pickle\n",
    "file = open('Enkoding/hsv_value.pkl', 'rb')\n",
    "datasets = pickle.load(file)\n",
    "file.close()"
   ]
  },
  {
   "cell_type": "code",
   "execution_count": null,
   "id": "5228dd07",
   "metadata": {
    "scrolled": true
   },
   "outputs": [],
   "source": [
    "datasets"
   ]
  },
  {
   "cell_type": "code",
   "execution_count": 11,
   "id": "341b2d42",
   "metadata": {},
   "outputs": [],
   "source": [
    "import numpy as np"
   ]
  },
  {
   "cell_type": "code",
   "execution_count": 15,
   "id": "d1b3af8d",
   "metadata": {},
   "outputs": [],
   "source": [
    "xtrain, ytrain = [], []\n",
    "for key, data in datasets.items():\n",
    "    xtrain.append([data[0], data[1], data[2]])\n",
    "    ytrain.append(data[3])\n",
    "    \n",
    "xtrain = np.array(xtrain)\n",
    "ytrain = np.array(ytrain)"
   ]
  },
  {
   "cell_type": "code",
   "execution_count": null,
   "id": "9264dc79",
   "metadata": {
    "scrolled": true
   },
   "outputs": [],
   "source": [
    "ytrain\n"
   ]
  },
  {
   "cell_type": "code",
   "execution_count": null,
   "id": "2641cdab",
   "metadata": {
    "scrolled": false
   },
   "outputs": [],
   "source": [
    "xtrain"
   ]
  },
  {
   "cell_type": "code",
   "execution_count": 16,
   "id": "d76ba549",
   "metadata": {},
   "outputs": [],
   "source": [
    "from sklearn.neighbors import KNeighborsClassifier"
   ]
  },
  {
   "cell_type": "code",
   "execution_count": 29,
   "id": "191de739",
   "metadata": {},
   "outputs": [],
   "source": [
    "nn = 7"
   ]
  },
  {
   "cell_type": "code",
   "execution_count": 30,
   "id": "c3aaa106",
   "metadata": {
    "scrolled": false
   },
   "outputs": [
    {
     "data": {
      "text/plain": [
       "KNeighborsClassifier(n_neighbors=7)"
      ]
     },
     "execution_count": 30,
     "metadata": {},
     "output_type": "execute_result"
    }
   ],
   "source": [
    "#Proses menghitung euclidean distance\n",
    "knn = KNeighborsClassifier(n_neighbors=nn)\n",
    " \n",
    "knn.fit(xtrain, ytrain)"
   ]
  },
  {
   "cell_type": "code",
   "execution_count": 31,
   "id": "c0a600c1",
   "metadata": {
    "scrolled": true
   },
   "outputs": [],
   "source": [
    "file = open('Enkoding/hsv_value_Testing.pkl', 'rb')\n",
    "datates = pickle.load(file)\n",
    "file.close()"
   ]
  },
  {
   "cell_type": "code",
   "execution_count": null,
   "id": "03130cea",
   "metadata": {},
   "outputs": [],
   "source": [
    "datates"
   ]
  },
  {
   "cell_type": "code",
   "execution_count": 33,
   "id": "f3ab420c",
   "metadata": {},
   "outputs": [],
   "source": [
    "xtest, ytest = [], []\n",
    "for key, data in datates.items():\n",
    "    xtest.append([data[0], data[1], data[2]])\n",
    "    ytest.append(data[3])\n",
    "    \n",
    "xtest = np.array(xtest)\n",
    "ytest = np.array(ytest)"
   ]
  },
  {
   "cell_type": "code",
   "execution_count": 34,
   "id": "bfdfab5b",
   "metadata": {},
   "outputs": [
    {
     "data": {
      "text/plain": [
       "array(['Babi', 'Sapi', 'Babi', 'Babi', 'Babi', 'Babi', 'Babi', 'Babi',\n",
       "       'Babi', 'Babi', 'Babi', 'Sapi', 'Sapi', 'Sapi', 'Sapi'],\n",
       "      dtype='<U4')"
      ]
     },
     "execution_count": 34,
     "metadata": {},
     "output_type": "execute_result"
    }
   ],
   "source": [
    "#Menampilkan hasil prediksi\n",
    "knn.predict(xtest)"
   ]
  },
  {
   "cell_type": "code",
   "execution_count": 35,
   "id": "e0de54f4",
   "metadata": {},
   "outputs": [
    {
     "data": {
      "text/plain": [
       "0.9333333333333333"
      ]
     },
     "execution_count": 35,
     "metadata": {},
     "output_type": "execute_result"
    }
   ],
   "source": [
    "#Menghitung akurasi \n",
    "knn.score(xtest, ytest)"
   ]
  },
  {
   "cell_type": "code",
   "execution_count": 36,
   "id": "a8523545",
   "metadata": {},
   "outputs": [],
   "source": [
    "from sklearn.metrics.pairwise import euclidean_distances"
   ]
  },
  {
   "cell_type": "code",
   "execution_count": 37,
   "id": "b657a758",
   "metadata": {},
   "outputs": [],
   "source": [
    "ed = euclidean_distances(xtrain, np.expand_dims(xtest[1], axis=0))"
   ]
  },
  {
   "cell_type": "code",
   "execution_count": 38,
   "id": "81fd160a",
   "metadata": {
    "scrolled": true
   },
   "outputs": [
    {
     "data": {
      "text/plain": [
       "array([7.89249268])"
      ]
     },
     "execution_count": 38,
     "metadata": {},
     "output_type": "execute_result"
    }
   ],
   "source": [
    "ed[12]"
   ]
  },
  {
   "cell_type": "code",
   "execution_count": 22,
   "id": "8a49b714",
   "metadata": {},
   "outputs": [],
   "source": [
    "ori_ed = []\n",
    "sort_ed = []\n",
    "for value in ed:\n",
    "    ori_ed.append(value[0])\n",
    "    sort_ed.append(value[0])"
   ]
  },
  {
   "cell_type": "code",
   "execution_count": 23,
   "id": "a541f935",
   "metadata": {},
   "outputs": [],
   "source": [
    "sort_ed.sort()"
   ]
  },
  {
   "cell_type": "code",
   "execution_count": 24,
   "id": "5667a0b4",
   "metadata": {
    "scrolled": true
   },
   "outputs": [
    {
     "name": "stdout",
     "output_type": "stream",
     "text": [
      "Sapi\n",
      "Sapi\n",
      "Sapi\n",
      "Babi\n",
      "Sapi\n",
      "Sapi\n",
      "Sapi\n",
      "sapi dominan, dengan 6 data\n",
      "babi tidak dominan, dengan 1 data\n",
      "Jadi data tersebut teridentifikasi sebagai Daging Sapi\n"
     ]
    }
   ],
   "source": [
    "babi = 0\n",
    "sapi = 0\n",
    "\n",
    "for i in range(nn):\n",
    "    print(ytrain[ori_ed.index(sort_ed[i])])\n",
    "    \n",
    "    if ytrain[ori_ed.index(sort_ed[i])] == 'Babi':\n",
    "        babi = babi + 1\n",
    "    else:\n",
    "        sapi = sapi + 1\n",
    "        \n",
    "if babi < sapi :\n",
    "    print(f'sapi dominan, dengan {sapi} data')\n",
    "    print(f'babi tidak dominan, dengan {babi} data')\n",
    "    print(f'Jadi data tersebut teridentifikasi sebagai Daging Sapi')\n",
    "else:\n",
    "    print(f'babi dominan, dengan {babi} data')\n",
    "    print(f'sapi tidak dominan, dengan {sapi} data')\n",
    "    print(f'Jadi data tersebut teridentifikasi sebagai Daging Babi')"
   ]
  },
  {
   "cell_type": "code",
   "execution_count": 90,
   "id": "574f581b",
   "metadata": {},
   "outputs": [],
   "source": [
    "array_test = [[1,2], [[3, [4]]]]"
   ]
  },
  {
   "cell_type": "code",
   "execution_count": 97,
   "id": "22cb2484",
   "metadata": {},
   "outputs": [
    {
     "data": {
      "text/plain": [
       "4"
      ]
     },
     "execution_count": 97,
     "metadata": {},
     "output_type": "execute_result"
    }
   ],
   "source": [
    "array_test[1][0][1][0]"
   ]
  },
  {
   "cell_type": "code",
   "execution_count": null,
   "id": "1ef8d4ad",
   "metadata": {},
   "outputs": [],
   "source": []
  }
 ],
 "metadata": {
  "kernelspec": {
   "display_name": "Python 3 (ipykernel)",
   "language": "python",
   "name": "python3"
  },
  "language_info": {
   "codemirror_mode": {
    "name": "ipython",
    "version": 3
   },
   "file_extension": ".py",
   "mimetype": "text/x-python",
   "name": "python",
   "nbconvert_exporter": "python",
   "pygments_lexer": "ipython3",
   "version": "3.7.2"
  }
 },
 "nbformat": 4,
 "nbformat_minor": 5
}

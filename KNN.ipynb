{
 "cells": [
  {
   "cell_type": "code",
   "execution_count": 1,
   "id": "5daedb6c",
   "metadata": {},
   "outputs": [],
   "source": [
    "import pickle\n",
    "import pandas as pd\n",
    "import numpy as np\n"
   ]
  },
  {
   "cell_type": "code",
   "execution_count": 2,
   "id": "5e20aa7a",
   "metadata": {},
   "outputs": [],
   "source": [
    "#Menggunakan file hasil HSV yang telah dibuar dalam bentuk pickle\n",
    "file = open('GUI/Enkoding_KNN/hsv_value.pkl', 'rb')\n",
    "datasets = pickle.load(file)\n",
    "file.close()"
   ]
  },
  {
   "cell_type": "code",
   "execution_count": null,
   "id": "5228dd07",
   "metadata": {
    "scrolled": true
   },
   "outputs": [],
   "source": [
    "datasets"
   ]
  },
  {
   "cell_type": "code",
   "execution_count": null,
   "id": "3d3611cc",
   "metadata": {},
   "outputs": [],
   "source": [
    "keys = list(datasets.keys())\n"
   ]
  },
  {
   "cell_type": "code",
   "execution_count": null,
   "id": "fbdbcdc2",
   "metadata": {},
   "outputs": [],
   "source": [
    "# Membuat array untuk digunakan pada proses simpan bentuk excel\n",
    "dataset_array = []\n",
    "for i in datasets.items():\n",
    "    dataset_array.append([i[0], i[1][0], i[1][1], i[1][2], i[1][3]])"
   ]
  },
  {
   "cell_type": "code",
   "execution_count": null,
   "id": "2b797427",
   "metadata": {},
   "outputs": [],
   "source": [
    "# Membuat Kolom Tabel\n",
    "pd_data = pd.DataFrame(dataset_array, columns= ['Name', 'H Value', 'S Value', 'V Value', 'Label'])"
   ]
  },
  {
   "cell_type": "code",
   "execution_count": null,
   "id": "72c170c6",
   "metadata": {},
   "outputs": [],
   "source": [
    "pd_data"
   ]
  },
  {
   "cell_type": "code",
   "execution_count": null,
   "id": "50475e87",
   "metadata": {},
   "outputs": [],
   "source": [
    "# Menyimpan dataset ke excel\n",
    "pd_data.to_excel('dataset.xlsx', index =False) "
   ]
  },
  {
   "cell_type": "code",
   "execution_count": null,
   "id": "341b2d42",
   "metadata": {},
   "outputs": [],
   "source": [
    "import numpy as np"
   ]
  },
  {
   "cell_type": "code",
   "execution_count": null,
   "id": "d1b3af8d",
   "metadata": {},
   "outputs": [],
   "source": [
    "# Memecah value dan label pada datates sebagai xtrain dan ytrain\n",
    "xtrain, ytrain = [], []\n",
    "for key, data in datasets.items():\n",
    "    xtrain.append([data[0], data[1], data[2]])\n",
    "    ytrain.append(data[3])\n",
    "    \n",
    "xtrain = np.array(xtrain)\n",
    "ytrain = np.array(ytrain)"
   ]
  },
  {
   "cell_type": "code",
   "execution_count": null,
   "id": "9264dc79",
   "metadata": {
    "scrolled": true
   },
   "outputs": [],
   "source": [
    "ytrain\n"
   ]
  },
  {
   "cell_type": "code",
   "execution_count": null,
   "id": "2641cdab",
   "metadata": {
    "scrolled": true
   },
   "outputs": [],
   "source": [
    "xtrain"
   ]
  },
  {
   "cell_type": "code",
   "execution_count": null,
   "id": "d7cc13d7",
   "metadata": {},
   "outputs": [],
   "source": [
    "# Membuka file pkl testing\n",
    "file = open('TestingHSV/hsv_valuee.pkl', 'rb')\n",
    "datates = pickle.load(file)\n",
    "file.close()"
   ]
  },
  {
   "cell_type": "code",
   "execution_count": null,
   "id": "c57584c9",
   "metadata": {},
   "outputs": [],
   "source": [
    "# Membuat array untuk menyimpan file ke excel\n",
    "datates_array = []\n",
    "for i in datates.items():\n",
    "    datates_array.append([i[0], i[1][0], i[1][1], i[1][2], i[1][3]])"
   ]
  },
  {
   "cell_type": "code",
   "execution_count": null,
   "id": "03f464d5",
   "metadata": {},
   "outputs": [],
   "source": [
    "# Membuat excel\n",
    "pd_tes = pd.DataFrame(datates_array, columns= ['Name', 'H Value', 'S Value', 'V Value', 'Label'])"
   ]
  },
  {
   "cell_type": "code",
   "execution_count": null,
   "id": "fde7b621",
   "metadata": {
    "scrolled": false
   },
   "outputs": [],
   "source": [
    "pd_tes"
   ]
  },
  {
   "cell_type": "code",
   "execution_count": null,
   "id": "35e0c5ef",
   "metadata": {},
   "outputs": [],
   "source": [
    "# Menyimpan excel\n",
    "pd_tes.to_excel('datatess.xlsx', index =False) "
   ]
  },
  {
   "cell_type": "code",
   "execution_count": null,
   "id": "45959e6c",
   "metadata": {},
   "outputs": [],
   "source": []
  },
  {
   "cell_type": "code",
   "execution_count": null,
   "id": "c4e35165",
   "metadata": {},
   "outputs": [],
   "source": [
    "# Membagi datates untuk xtest dan ytest yaitu value dan label\n",
    "xtest, ytest = [], []\n",
    "for key, data in datates.items():\n",
    "    xtest.append([data[0], data[1], data[2]])\n",
    "    ytest.append(data[3])\n",
    "    \n",
    "xtest = np.array(xtest)\n",
    "ytest = np.array(ytest)"
   ]
  },
  {
   "cell_type": "code",
   "execution_count": null,
   "id": "6269ac5b",
   "metadata": {},
   "outputs": [],
   "source": [
    "xtest"
   ]
  },
  {
   "cell_type": "code",
   "execution_count": null,
   "id": "4b395c1d",
   "metadata": {},
   "outputs": [],
   "source": [
    "ytest"
   ]
  },
  {
   "cell_type": "code",
   "execution_count": 6,
   "id": "d76ba549",
   "metadata": {},
   "outputs": [],
   "source": [
    "from sklearn.neighbors import KNeighborsClassifier\n",
    "from sklearn.metrics import confusion_matrix\n",
    "from sklearn.metrics import accuracy_score\n",
    "from sklearn.metrics import classification_report\n",
    "from sklearn.model_selection import train_test_split"
   ]
  },
  {
   "cell_type": "code",
   "execution_count": 4,
   "id": "5674889b",
   "metadata": {},
   "outputs": [
    {
     "ename": "NameError",
     "evalue": "name 'KNeighborsClassifier' is not defined",
     "output_type": "error",
     "traceback": [
      "\u001b[1;31m---------------------------------------------------------------------------\u001b[0m",
      "\u001b[1;31mNameError\u001b[0m                                 Traceback (most recent call last)",
      "\u001b[1;32m~\\AppData\\Local\\Temp\\ipykernel_15000\\4223932274.py\u001b[0m in \u001b[0;36m<module>\u001b[1;34m\u001b[0m\n\u001b[1;32m----> 1\u001b[1;33m \u001b[0mknn\u001b[0m \u001b[1;33m=\u001b[0m \u001b[0mKNeighborsClassifier\u001b[0m\u001b[1;33m(\u001b[0m\u001b[0mn_neighbors\u001b[0m\u001b[1;33m=\u001b[0m\u001b[1;36m5\u001b[0m\u001b[1;33m)\u001b[0m\u001b[1;33m\u001b[0m\u001b[1;33m\u001b[0m\u001b[0m\n\u001b[0m\u001b[0;32m      2\u001b[0m \u001b[0mxtrain\u001b[0m\u001b[1;33m,\u001b[0m \u001b[0mytrain\u001b[0m \u001b[1;33m=\u001b[0m \u001b[1;33m[\u001b[0m\u001b[1;33m]\u001b[0m\u001b[1;33m,\u001b[0m \u001b[1;33m[\u001b[0m\u001b[1;33m]\u001b[0m\u001b[1;33m\u001b[0m\u001b[1;33m\u001b[0m\u001b[0m\n\u001b[0;32m      3\u001b[0m \u001b[1;32mfor\u001b[0m \u001b[0mkey\u001b[0m\u001b[1;33m,\u001b[0m \u001b[0mdata\u001b[0m \u001b[1;32min\u001b[0m \u001b[0mdatasets\u001b[0m\u001b[1;33m.\u001b[0m\u001b[0mitems\u001b[0m\u001b[1;33m(\u001b[0m\u001b[1;33m)\u001b[0m\u001b[1;33m:\u001b[0m\u001b[1;33m\u001b[0m\u001b[1;33m\u001b[0m\u001b[0m\n\u001b[0;32m      4\u001b[0m     \u001b[0mxtrain\u001b[0m\u001b[1;33m.\u001b[0m\u001b[0mappend\u001b[0m\u001b[1;33m(\u001b[0m\u001b[1;33m[\u001b[0m\u001b[0mdata\u001b[0m\u001b[1;33m[\u001b[0m\u001b[1;36m0\u001b[0m\u001b[1;33m]\u001b[0m\u001b[1;33m,\u001b[0m \u001b[0mdata\u001b[0m\u001b[1;33m[\u001b[0m\u001b[1;36m1\u001b[0m\u001b[1;33m]\u001b[0m\u001b[1;33m,\u001b[0m \u001b[0mdata\u001b[0m\u001b[1;33m[\u001b[0m\u001b[1;36m2\u001b[0m\u001b[1;33m]\u001b[0m\u001b[1;33m]\u001b[0m\u001b[1;33m)\u001b[0m\u001b[1;33m\u001b[0m\u001b[1;33m\u001b[0m\u001b[0m\n\u001b[0;32m      5\u001b[0m     \u001b[0mytrain\u001b[0m\u001b[1;33m.\u001b[0m\u001b[0mappend\u001b[0m\u001b[1;33m(\u001b[0m\u001b[0mdata\u001b[0m\u001b[1;33m[\u001b[0m\u001b[1;36m3\u001b[0m\u001b[1;33m]\u001b[0m\u001b[1;33m)\u001b[0m\u001b[1;33m\u001b[0m\u001b[1;33m\u001b[0m\u001b[0m\n",
      "\u001b[1;31mNameError\u001b[0m: name 'KNeighborsClassifier' is not defined"
     ]
    }
   ],
   "source": [
    "knn = KNeighborsClassifier(n_neighbors=5)\n",
    "xtrain, ytrain = [], []\n",
    "for key, data in datasets.items():\n",
    "    xtrain.append([data[0], data[1], data[2]])\n",
    "    ytrain.append(data[3])\n",
    "    \n",
    "xtrain = np.array(xtrain)\n",
    "ytrain = np.array(ytrain)\n",
    "\n",
    "\n",
    "#split dataset into train and test data\n",
    "X_train, X_test, y_train, y_test = train_test_split(xtrain, ytrain, test_size=0.1)\n",
    " "
   ]
  },
  {
   "cell_type": "code",
   "execution_count": null,
   "id": "3b8101b2",
   "metadata": {},
   "outputs": [],
   "source": []
  },
  {
   "cell_type": "code",
   "execution_count": 3,
   "id": "1c4455c5",
   "metadata": {},
   "outputs": [
    {
     "ename": "NameError",
     "evalue": "name 'knn' is not defined",
     "output_type": "error",
     "traceback": [
      "\u001b[1;31m---------------------------------------------------------------------------\u001b[0m",
      "\u001b[1;31mNameError\u001b[0m                                 Traceback (most recent call last)",
      "\u001b[1;32m~\\AppData\\Local\\Temp\\ipykernel_15000\\1085304308.py\u001b[0m in \u001b[0;36m<module>\u001b[1;34m\u001b[0m\n\u001b[1;32m----> 1\u001b[1;33m \u001b[0mknn\u001b[0m\u001b[1;33m.\u001b[0m\u001b[0mn_neighbors\u001b[0m\u001b[1;33m(\u001b[0m\u001b[1;36m3\u001b[0m\u001b[1;33m)\u001b[0m\u001b[1;33m\u001b[0m\u001b[1;33m\u001b[0m\u001b[0m\n\u001b[0m",
      "\u001b[1;31mNameError\u001b[0m: name 'knn' is not defined"
     ]
    }
   ],
   "source": [
    "knn.n_neighbors(3)\n"
   ]
  },
  {
   "cell_type": "code",
   "execution_count": null,
   "id": "191de739",
   "metadata": {},
   "outputs": [],
   "source": [
    "nn = 7"
   ]
  },
  {
   "cell_type": "code",
   "execution_count": null,
   "id": "d19e1fbe",
   "metadata": {},
   "outputs": [],
   "source": [
    "#Proses menghitung euclidean distance\n",
    "# Menggunakan k 3 dari 20 data salah 2 Akurasi 90\n",
    "# Menggunakan k 5 dari 20 data salah 4 Akurasi 80\n",
    "# Menggunakan k 7 dari 20 data salah 3 Akurasi 85\n",
    "# Menggunakan k 9 dari 20 data salah 3 Akurasi 85\n",
    "# Menggunakan k 11 dari 20 data salah 2 Akurasi 90\n",
    "# Menggunakan k 15 dari 20 data salah 4 Akurasi 80 \n",
    "\n",
    "knn = KNeighborsClassifier(n_neighbors=5)\n",
    " \n",
    "knn.fit(xtrain, ytrain)\n",
    "\n",
    "# # xtest = [22.850843858276516,\n",
    "# #   22.544919496685157,\n",
    "# #   21.81181578064979]\n",
    "# xtest = np.expand_dims(xtest, axis=0)\n",
    "\n",
    "# print(knn.predict(xtest))"
   ]
  },
  {
   "cell_type": "code",
   "execution_count": null,
   "id": "fd79dcdc",
   "metadata": {},
   "outputs": [],
   "source": [
    "knn.predict(xtest)"
   ]
  },
  {
   "cell_type": "code",
   "execution_count": null,
   "id": "506bdb94",
   "metadata": {},
   "outputs": [],
   "source": [
    "pred = knn.predict(xtest)"
   ]
  },
  {
   "cell_type": "code",
   "execution_count": null,
   "id": "fd3e7bc8",
   "metadata": {},
   "outputs": [],
   "source": [
    "print(accuracy_score(ytest, pred))\n",
    "print(classification_report(ytest, pred))\n",
    "print(confusion_matrix(ytest, pred))"
   ]
  },
  {
   "cell_type": "code",
   "execution_count": null,
   "id": "5ed2780f",
   "metadata": {},
   "outputs": [],
   "source": []
  },
  {
   "cell_type": "code",
   "execution_count": null,
   "id": "d2022987",
   "metadata": {},
   "outputs": [],
   "source": [
    "knn.score(xtrain, ytrain)"
   ]
  },
  {
   "cell_type": "code",
   "execution_count": null,
   "id": "581ec019",
   "metadata": {},
   "outputs": [],
   "source": [
    "knn_loaded.predict(xtest)"
   ]
  },
  {
   "cell_type": "code",
   "execution_count": null,
   "id": "32f3d6fc",
   "metadata": {},
   "outputs": [],
   "source": [
    "with open('model/knn', 'wb') as f:\n",
    "        pickle.dump(knn, f)"
   ]
  },
  {
   "cell_type": "code",
   "execution_count": null,
   "id": "ca3b56aa",
   "metadata": {},
   "outputs": [],
   "source": []
  },
  {
   "cell_type": "code",
   "execution_count": null,
   "id": "c0a600c1",
   "metadata": {
    "scrolled": true
   },
   "outputs": [],
   "source": [
    "file = open('TestingHSV/hsv_value.pkl', 'rb')\n",
    "datates = pickle.load(file)\n",
    "file.close()"
   ]
  },
  {
   "cell_type": "code",
   "execution_count": null,
   "id": "81ebd222",
   "metadata": {},
   "outputs": [],
   "source": [
    "datates"
   ]
  },
  {
   "cell_type": "code",
   "execution_count": null,
   "id": "f502fc97",
   "metadata": {},
   "outputs": [],
   "source": [
    "with open('model/knn', 'rb') as f:\n",
    "            knn_loaded = pickle.load(f)"
   ]
  },
  {
   "cell_type": "code",
   "execution_count": null,
   "id": "f3ab420c",
   "metadata": {},
   "outputs": [],
   "source": [
    "xtest, ytest = [], []\n",
    "for key, data in datates.items():\n",
    "    xtest.append([data[0], data[1], data[2]])\n",
    "    ytest.append(data[3])\n",
    "    \n",
    "xtest = np.array(xtest)\n",
    "ytest = np.array(ytest)"
   ]
  },
  {
   "cell_type": "code",
   "execution_count": null,
   "id": "bfdfab5b",
   "metadata": {},
   "outputs": [],
   "source": [
    "#Menampilkan hasil prediksi\n",
    "knn_loaded.predict(xtest)"
   ]
  },
  {
   "cell_type": "code",
   "execution_count": null,
   "id": "db881c57",
   "metadata": {},
   "outputs": [],
   "source": [
    "xtest"
   ]
  },
  {
   "cell_type": "code",
   "execution_count": null,
   "id": "e0de54f4",
   "metadata": {},
   "outputs": [],
   "source": [
    "#Menghitung akurasi \n",
    "knn.score(xtest, ytest)"
   ]
  },
  {
   "cell_type": "code",
   "execution_count": null,
   "id": "a8523545",
   "metadata": {},
   "outputs": [],
   "source": [
    "from sklearn.metrics.pairwise import euclidean_distances"
   ]
  },
  {
   "cell_type": "code",
   "execution_count": null,
   "id": "b657a758",
   "metadata": {},
   "outputs": [],
   "source": [
    "ed = euclidean_distances(xtrain, xtest)"
   ]
  },
  {
   "cell_type": "code",
   "execution_count": null,
   "id": "81fd160a",
   "metadata": {
    "scrolled": false
   },
   "outputs": [],
   "source": [
    "test = []\n",
    "\n",
    "for value in ed:\n",
    "    test.append(value[0])\n",
    "    \n",
    "test"
   ]
  },
  {
   "cell_type": "code",
   "execution_count": null,
   "id": "7eb44765",
   "metadata": {},
   "outputs": [],
   "source": [
    "from scipy.spatial import distance"
   ]
  },
  {
   "cell_type": "code",
   "execution_count": null,
   "id": "79855596",
   "metadata": {},
   "outputs": [],
   "source": [
    "from sklearn import preprocessing"
   ]
  },
  {
   "cell_type": "code",
   "execution_count": null,
   "id": "416002cf",
   "metadata": {},
   "outputs": [],
   "source": [
    "nor_train = preprocessing.normalize(xtrain)"
   ]
  },
  {
   "cell_type": "code",
   "execution_count": null,
   "id": "201d8dbd",
   "metadata": {},
   "outputs": [],
   "source": [
    "nor_tes = preprocessing.normalize(xtest)"
   ]
  },
  {
   "cell_type": "code",
   "execution_count": null,
   "id": "3644f011",
   "metadata": {},
   "outputs": [],
   "source": [
    "nor_train"
   ]
  },
  {
   "cell_type": "code",
   "execution_count": null,
   "id": "521f8b3d",
   "metadata": {
    "scrolled": true
   },
   "outputs": [],
   "source": [
    "# e_d = distance.euclidean(xtrain, xtest)\n",
    "e_d = euclidean_distances(nor_train, nor_tes)"
   ]
  },
  {
   "cell_type": "code",
   "execution_count": null,
   "id": "f7f62115",
   "metadata": {
    "scrolled": false
   },
   "outputs": [],
   "source": [
    "e_d"
   ]
  },
  {
   "cell_type": "code",
   "execution_count": null,
   "id": "63a6c694",
   "metadata": {},
   "outputs": [],
   "source": [
    "#Proses menghitung euclidean distance\n",
    "knn = KNeighborsClassifier(n_neighbors=11)\n",
    "knn.fit(nor_train, ytrain)\n"
   ]
  },
  {
   "cell_type": "code",
   "execution_count": null,
   "id": "7b1d7e9e",
   "metadata": {},
   "outputs": [],
   "source": [
    "knn.predict(xtest)"
   ]
  },
  {
   "cell_type": "code",
   "execution_count": null,
   "id": "3e85abb5",
   "metadata": {},
   "outputs": [],
   "source": [
    "#Menghitung akurasi \n",
    "knn.score(xtest, ytest)"
   ]
  },
  {
   "cell_type": "code",
   "execution_count": null,
   "id": "8a49b714",
   "metadata": {},
   "outputs": [],
   "source": [
    "ori_ed = []\n",
    "sort_ed = []\n",
    "for value in ed:\n",
    "    ori_ed.append(value[0])\n",
    "    sort_ed.append(value[0])"
   ]
  },
  {
   "cell_type": "code",
   "execution_count": null,
   "id": "a541f935",
   "metadata": {},
   "outputs": [],
   "source": [
    "sort_ed.sort()"
   ]
  },
  {
   "cell_type": "code",
   "execution_count": null,
   "id": "5667a0b4",
   "metadata": {
    "scrolled": true
   },
   "outputs": [],
   "source": [
    "babi = 0\n",
    "sapi = 0\n",
    "\n",
    "for i in range(nn):\n",
    "    print(ytrain[ori_ed.index(sort_ed[i])])\n",
    "    \n",
    "    if ytrain[ori_ed.index(sort_ed[i])] == 'Babi':\n",
    "        babi = babi + 1\n",
    "    else:\n",
    "        sapi = sapi + 1\n",
    "        \n",
    "if babi < sapi :\n",
    "    print(f'sapi dominan, dengan {sapi} data')\n",
    "    print(f'babi tidak dominan, dengan {babi} data')\n",
    "    print(f'Jadi data tersebut teridentifikasi sebagai Daging Sapi')\n",
    "else:\n",
    "    print(f'babi dominan, dengan {babi} data')\n",
    "    print(f'sapi tidak dominan, dengan {sapi} data')\n",
    "    print(f'Jadi data tersebut teridentifikasi sebagai Daging Babi')"
   ]
  },
  {
   "cell_type": "code",
   "execution_count": null,
   "id": "574f581b",
   "metadata": {},
   "outputs": [],
   "source": [
    "array_test = [[1,2], [[3, [4]]]]"
   ]
  },
  {
   "cell_type": "code",
   "execution_count": null,
   "id": "22cb2484",
   "metadata": {},
   "outputs": [],
   "source": [
    "array_test[1][0][1][0]"
   ]
  },
  {
   "cell_type": "code",
   "execution_count": null,
   "id": "1ef8d4ad",
   "metadata": {},
   "outputs": [],
   "source": []
  }
 ],
 "metadata": {
  "kernelspec": {
   "display_name": "Python 3 (ipykernel)",
   "language": "python",
   "name": "python3"
  },
  "language_info": {
   "codemirror_mode": {
    "name": "ipython",
    "version": 3
   },
   "file_extension": ".py",
   "mimetype": "text/x-python",
   "name": "python",
   "nbconvert_exporter": "python",
   "pygments_lexer": "ipython3",
   "version": "3.7.2"
  }
 },
 "nbformat": 4,
 "nbformat_minor": 5
}

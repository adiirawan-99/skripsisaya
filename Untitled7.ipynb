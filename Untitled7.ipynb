{
 "cells": [
  {
   "cell_type": "code",
   "execution_count": 26,
   "id": "7d86dc06",
   "metadata": {},
   "outputs": [],
   "source": [
    "import PIL\n",
    "import tkinter\n",
    "import cv2\n",
    "import numpy as np\n",
    "from skimage.io import imread, imshow\n",
    "from skimage.color import rgb2gray, rgb2hsv\n",
    "from skimage.morphology import area_opening\n",
    "from skimage.exposure import histogram\n",
    "from skimage.filters import threshold_otsu\n",
    "from PIL import Image\n",
    "import os\n",
    "import matplotlib.pyplot as plt\n",
    "import cv2\n",
    "import pickle\n",
    "import pandas as pd"
   ]
  },
  {
   "cell_type": "code",
   "execution_count": 27,
   "id": "958c78dd",
   "metadata": {},
   "outputs": [],
   "source": [
    "# import the necessary packages\n",
    "from tkinter import *\n",
    "import tkinter as tk\n",
    "from PIL import Image\n",
    "from PIL import ImageTk\n",
    "import tkinter.filedialog\n",
    "import cv2\n"
   ]
  },
  {
   "cell_type": "code",
   "execution_count": 28,
   "id": "c33a9247",
   "metadata": {},
   "outputs": [],
   "source": [
    "def select_image():\n",
    "\t# grab a reference to the image panels\n",
    "\tglobal panelA, panelB\n",
    "\t# open a file chooser dialog and allow the user to select an input\n",
    "\t# image\n",
    "path = tkinter.filedialog.askopenfilename()"
   ]
  },
  {
   "cell_type": "code",
   "execution_count": 34,
   "id": "aef70f88",
   "metadata": {},
   "outputs": [],
   "source": [
    "def masked_image(image, mask):\n",
    "    r = image[:,:,0] * mask\n",
    "    g = image[:,:,1] * mask\n",
    "    b = image[:,:,2] * mask\n",
    "    return np.dstack([r,g,b])\n",
    "# ensure a file path was selected\n",
    "if len(path) > 0:\n",
    "# load the image from disk, convert it to grayscale, and detect\n",
    "# edges in it\n",
    "    image = cv2.imread(path)\n",
    "    gray = rgb2gray(image)\n",
    "    thresh = threshold_otsu(gray)\n",
    "    masking  = gray < thresh\n",
    "    filtered = masked_image(image, masking)\n",
    "    edged = Image.fromarray(filtered)\n",
    "    #image = image.resize((778, 437))\n",
    "    edged = image.resize((778, 437))\n",
    "    \n",
    "    edged = cv2.cvtColor(image, cv2.COLOR_RGB2BGR)\n",
    "    \n",
    "    #convert to format pil\n",
    "    #image = Image.fromarray(image)\n",
    "    edged = Image.fromarray(edged)\n",
    "    \n",
    "    #image to tk format\n",
    "    #image = ImageTk.PhotoImage(image)\n",
    "    edged = ImageTk.PhotoImage(edged)\n",
    "    \n",
    "    \n",
    "    \n",
    "#     image = np.asarray(image)\n",
    "        \n",
    "#     image = cv2.cvtColor(image, cv2.COLOR_RGB2BGR)\n",
    "# #gray = cv2.cvtColor(image, cv2.COLOR_BGR2GRAY)\n",
    "# \tedged = cv2.Canny(gray, 50, 100)\n",
    "# # OpenCV represents images in BGR order; however PIL represents\n",
    "# # images in RGB order, so we need to swap the channels\n",
    "# \timage = cv2.cvtColor(image, cv2.COLOR_BGR2RGB)\n",
    "# # convert the images to PIL format...\n",
    "# \timage = Image.fromarray(image)\n",
    "# \tedged = Image.fromarray(edged)\n",
    "# # ...and then to ImageTk format\n",
    "#     image = ImageTk.PhotoImage(image)\n",
    "#     edged = ImageTk.PhotoImage(edged)"
   ]
  },
  {
   "cell_type": "code",
   "execution_count": null,
   "id": "1d5e5936",
   "metadata": {},
   "outputs": [],
   "source": [
    "# if the panels are None, initialize them\n",
    "if panelA is None or panelB is None:\n",
    "\t# the first panel will store our original image\n",
    "\tpanelA = Label(image=image)\n",
    "\tpanelA.image = image\n",
    "\tpanelA.pack(side=\"left\", padx=10, pady=10)\n",
    "\t# while the second panel will store the edge map\n",
    "\tpanelB = Label(image=edged)\n",
    "\tpanelB.image = edged\n",
    "\tpanelB.pack(side=\"right\", padx=10, pady=10)\n",
    "    # otherwise, update the image panels\n",
    "else:\n",
    "\t# update the pannels\n",
    "\tpanelA.configure(image=image)\n",
    "\tpanelB.configure(image=edged)\n",
    "\tpanelA.image = image\n",
    "\tpanelB.image = edged"
   ]
  }
 ],
 "metadata": {
  "kernelspec": {
   "display_name": "Python 3 (ipykernel)",
   "language": "python",
   "name": "python3"
  },
  "language_info": {
   "codemirror_mode": {
    "name": "ipython",
    "version": 3
   },
   "file_extension": ".py",
   "mimetype": "text/x-python",
   "name": "python",
   "nbconvert_exporter": "python",
   "pygments_lexer": "ipython3",
   "version": "3.7.2"
  }
 },
 "nbformat": 4,
 "nbformat_minor": 5
}

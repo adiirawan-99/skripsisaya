{
 "cells": [
  {
   "cell_type": "code",
   "execution_count": 9,
   "id": "c829cb11",
   "metadata": {},
   "outputs": [],
   "source": [
    "import sys\n",
    "from PIL import ImageTk, Image\n",
    "from threading import Thread"
   ]
  },
  {
   "cell_type": "code",
   "execution_count": 10,
   "id": "305cdcbd",
   "metadata": {},
   "outputs": [],
   "source": [
    "import tkinter as tk\n",
    "from tkinter import ttk, filedialog\n"
   ]
  },
  {
   "cell_type": "code",
   "execution_count": 11,
   "id": "54735d3e",
   "metadata": {},
   "outputs": [],
   "source": [
    "x = 600\n",
    "y = 700\n",
    "class ImageProces(tk.Frame):\n",
    "    def __init__(self, window):\n",
    "        super().__init__(window)\n",
    "        self.init_ui()\n",
    "        \n",
    "    def init_ui(self):\n",
    "        self.pack()\n",
    "        self.label = tk.Label(self, text ='IMAGE PROCESS', font=('Hervetica', 20))\n",
    "        self.label.pack()\n",
    "        self.opentn = tk.Button(self, text='Load Image', command=self.open_image)\n",
    "        self.opentn.pack()\n",
    "        #membuat frame\n",
    "        self.imageframe = tk.LabelFrame(self, text='Image View')\n",
    "        self.imageframe.pack()\n",
    "        self.labelimage = tk.Label(self.imageframe, width=100, height=30)\n",
    "        self.labelimage.pack()\n",
    "        \n",
    "        #membuat button process\n",
    "        self.processbtn = tk.Button(self, text='Process')\n",
    "        self.processbtn.pack()\n",
    "        #process load\n",
    "        self.processload = ttk.Progressbar(self)\n",
    "        self.processload.pack()\n",
    "        \n",
    "    def open_image(self):\n",
    "        self.filename = filedialog.askopenfilename(initialdir=\"C:/Users/Adi/Documents/skripsi\")\n",
    "        self.img = Image.open(self.filename)\n",
    "        self.x = int(self.img.size[0]*0+x*.50) #lebar\n",
    "        self.y = int(self.img.size[1]*0+y*.50) #Tinggi\n",
    "        self.imgconvert = self.img.resize((self.x, self.y))\n",
    "        \n",
    "        self.imgtk = ImageTk.PhotoImage(self.imgconvert)\n",
    "        \n",
    "        #tampilkan image ke label image\n",
    "        self.labelimage.config(image=self.imgtk, width= 300, height = 400)\n",
    "\n",
    "window = tk.Tk()\n",
    "gui = ImageProces(window)\n",
    "window.geometry(f'{x}x{y}')\n",
    "\n",
    "window.mainloop()\n",
    "    \n",
    "        "
   ]
  },
  {
   "cell_type": "code",
   "execution_count": 22,
   "id": "51b95188",
   "metadata": {},
   "outputs": [],
   "source": []
  },
  {
   "cell_type": "code",
   "execution_count": null,
   "id": "f4f831e5",
   "metadata": {},
   "outputs": [],
   "source": []
  },
  {
   "cell_type": "code",
   "execution_count": null,
   "id": "2a02ce4b",
   "metadata": {},
   "outputs": [],
   "source": []
  }
 ],
 "metadata": {
  "kernelspec": {
   "display_name": "Python 3 (ipykernel)",
   "language": "python",
   "name": "python3"
  },
  "language_info": {
   "codemirror_mode": {
    "name": "ipython",
    "version": 3
   },
   "file_extension": ".py",
   "mimetype": "text/x-python",
   "name": "python",
   "nbconvert_exporter": "python",
   "pygments_lexer": "ipython3",
   "version": "3.7.2"
  }
 },
 "nbformat": 4,
 "nbformat_minor": 5
}

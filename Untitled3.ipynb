{
 "cells": [
  {
   "cell_type": "code",
   "execution_count": 1,
   "id": "d980ef40",
   "metadata": {},
   "outputs": [],
   "source": [
    "import numpy as np\n",
    "import matplotlib.pyplot as plt\n",
    "import pandas as pd"
   ]
  },
  {
   "cell_type": "code",
   "execution_count": 2,
   "id": "8c589c4b",
   "metadata": {},
   "outputs": [],
   "source": [
    "url = \"https://archive.ics.uci.edu/ml/machine-learning-databases/iris/iris.data\"\n",
    "\n",
    "# Assign colum names to the dataset\n",
    "names = ['sepal-length', 'sepal-width', 'petal-length', 'petal-width', 'Class']\n",
    "\n",
    "# Read dataset to pandas dataframe\n",
    "dataset = pd.read_csv(url, names=names)"
   ]
  },
  {
   "cell_type": "code",
   "execution_count": null,
   "id": "405822e7",
   "metadata": {},
   "outputs": [],
   "source": [
    "dataset.head()"
   ]
  },
  {
   "cell_type": "code",
   "execution_count": 3,
   "id": "3aca433e",
   "metadata": {
    "scrolled": false
   },
   "outputs": [],
   "source": [
    "x = dataset.iloc[:, :-1].values\n",
    "y = dataset.iloc[:, 4].values\n"
   ]
  },
  {
   "cell_type": "code",
   "execution_count": 4,
   "id": "4557ca6b",
   "metadata": {},
   "outputs": [],
   "source": [
    "from sklearn.model_selection import train_test_split\n",
    "from sklearn.preprocessing import StandardScaler\n",
    "from sklearn.neighbors import KNeighborsClassifier\n",
    "from sklearn.metrics import classification_report, confusion_matrix"
   ]
  },
  {
   "cell_type": "code",
   "execution_count": 5,
   "id": "2e9ce818",
   "metadata": {},
   "outputs": [],
   "source": [
    "#Membagi kelas training dan testing\n",
    "x_train, x_test, y_train, y_test = train_test_split(x, y, test_size=0.20)\n"
   ]
  },
  {
   "cell_type": "code",
   "execution_count": 6,
   "id": "a80c4e09",
   "metadata": {},
   "outputs": [
    {
     "name": "stdout",
     "output_type": "stream",
     "text": [
      "[[5.7 4.4 1.5 0.4]\n",
      " [5.7 3.  4.2 1.2]\n",
      " [5.7 2.8 4.5 1.3]\n",
      " [6.2 3.4 5.4 2.3]\n",
      " [6.  3.  4.8 1.8]\n",
      " [5.  3.5 1.6 0.6]\n",
      " [6.7 3.3 5.7 2.1]\n",
      " [5.  3.  1.6 0.2]\n",
      " [5.  3.5 1.3 0.3]\n",
      " [5.6 3.  4.5 1.5]\n",
      " [6.8 3.2 5.9 2.3]\n",
      " [6.3 2.5 5.  1.9]\n",
      " [5.4 3.9 1.7 0.4]\n",
      " [4.4 3.2 1.3 0.2]\n",
      " [6.1 3.  4.6 1.4]\n",
      " [7.7 3.8 6.7 2.2]\n",
      " [5.8 2.7 5.1 1.9]\n",
      " [5.8 2.7 3.9 1.2]\n",
      " [7.2 3.  5.8 1.6]\n",
      " [6.2 2.2 4.5 1.5]\n",
      " [6.1 2.8 4.7 1.2]\n",
      " [6.3 3.3 6.  2.5]\n",
      " [6.3 3.3 4.7 1.6]\n",
      " [5.5 2.4 3.7 1. ]\n",
      " [4.9 2.5 4.5 1.7]\n",
      " [6.3 2.8 5.1 1.5]\n",
      " [6.9 3.1 4.9 1.5]\n",
      " [7.7 2.6 6.9 2.3]\n",
      " [4.8 3.  1.4 0.1]\n",
      " [5.2 3.5 1.5 0.2]]\n"
     ]
    }
   ],
   "source": [
    "print(x_test)"
   ]
  },
  {
   "cell_type": "code",
   "execution_count": 7,
   "id": "f45ef207",
   "metadata": {},
   "outputs": [],
   "source": [
    "scaler = StandardScaler()\n",
    "scaler.fit(x_train)\n",
    "\n",
    "x_trainval = scaler.transform(x_train)\n",
    "x_testval = scaler.transform(x_test)\n"
   ]
  },
  {
   "cell_type": "code",
   "execution_count": 8,
   "id": "783056b6",
   "metadata": {},
   "outputs": [
    {
     "name": "stdout",
     "output_type": "stream",
     "text": [
      "[[-0.14288896  3.1923655  -1.23704245 -0.99922063]\n",
      " [-0.14288896 -0.11211635  0.29977409  0.04457894]\n",
      " [-0.14288896 -0.58418518  0.47053148  0.17505389]\n",
      " [ 0.46086722  0.83202132  0.98280366  1.47980334]\n",
      " [ 0.21936475 -0.11211635  0.64128888  0.82742861]\n",
      " [-0.98814761  1.06805574 -1.18012332 -0.73827073]\n",
      " [ 1.0646234   0.5959869   1.15356105  1.21885345]\n",
      " [-0.98814761 -0.11211635 -1.18012332 -1.26017052]\n",
      " [-0.98814761  1.06805574 -1.35088071 -1.12969557]\n",
      " [-0.2636402  -0.11211635  0.47053148  0.43600378]\n",
      " [ 1.18537463  0.35995249  1.26739932  1.47980334]\n",
      " [ 0.58161845 -1.29228844  0.75512714  0.95790356]\n",
      " [-0.50514267  2.01219341 -1.12320418 -0.99922063]\n",
      " [-1.71265503  0.35995249 -1.35088071 -1.26017052]\n",
      " [ 0.34011598 -0.11211635  0.52745061  0.30552883]\n",
      " [ 2.27213576  1.77615899  1.72275236  1.3493284 ]\n",
      " [-0.02213773 -0.8202196   0.81204627  0.95790356]\n",
      " [-0.02213773 -0.8202196   0.1290167   0.04457894]\n",
      " [ 1.66837958 -0.11211635  1.21048019  0.56647872]\n",
      " [ 0.46086722 -2.00039169  0.47053148  0.43600378]\n",
      " [ 0.34011598 -0.58418518  0.58436974  0.04457894]\n",
      " [ 0.58161845  0.5959869   1.32431845  1.74075323]\n",
      " [ 0.58161845  0.5959869   0.58436974  0.56647872]\n",
      " [-0.38439143 -1.52832285  0.01517843 -0.21637095]\n",
      " [-1.10889885 -1.29228844  0.47053148  0.69695367]\n",
      " [ 0.58161845 -0.58418518  0.81204627  0.43600378]\n",
      " [ 1.30612587  0.12391807  0.69820801  0.43600378]\n",
      " [ 2.27213576 -1.05625402  1.83659063  1.47980334]\n",
      " [-1.22965009 -0.11211635 -1.29396158 -1.39064546]\n",
      " [-0.74664514  1.06805574 -1.23704245 -1.26017052]]\n"
     ]
    }
   ],
   "source": [
    "print(x_testval)"
   ]
  },
  {
   "cell_type": "code",
   "execution_count": 9,
   "id": "38a58e58",
   "metadata": {},
   "outputs": [
    {
     "data": {
      "text/plain": [
       "KNeighborsClassifier()"
      ]
     },
     "execution_count": 9,
     "metadata": {},
     "output_type": "execute_result"
    }
   ],
   "source": [
    "#Euclidian Distance ada disini\n",
    "classifier = KNeighborsClassifier(n_neighbors=5)\n",
    "classifier.fit(x_train, y_train)"
   ]
  },
  {
   "cell_type": "code",
   "execution_count": 10,
   "id": "5ccee569",
   "metadata": {},
   "outputs": [],
   "source": [
    "y_pred = classifier.predict(x_test)\n"
   ]
  },
  {
   "cell_type": "code",
   "execution_count": null,
   "id": "0b8ec48d",
   "metadata": {},
   "outputs": [],
   "source": [
    "print(confusion_matrix(y_test, y_pred))\n",
    "print(classification_report(y_test, y_pred))\n",
    "#Menghasilkan matrix"
   ]
  },
  {
   "cell_type": "code",
   "execution_count": 11,
   "id": "77bbc45b",
   "metadata": {},
   "outputs": [
    {
     "data": {
      "text/plain": [
       "array(['Iris-setosa', 'Iris-versicolor', 'Iris-versicolor',\n",
       "       'Iris-virginica', 'Iris-virginica', 'Iris-setosa',\n",
       "       'Iris-virginica', 'Iris-setosa', 'Iris-setosa', 'Iris-versicolor',\n",
       "       'Iris-virginica', 'Iris-virginica', 'Iris-setosa', 'Iris-setosa',\n",
       "       'Iris-versicolor', 'Iris-virginica', 'Iris-virginica',\n",
       "       'Iris-versicolor', 'Iris-virginica', 'Iris-versicolor',\n",
       "       'Iris-versicolor', 'Iris-virginica', 'Iris-versicolor',\n",
       "       'Iris-versicolor', 'Iris-versicolor', 'Iris-virginica',\n",
       "       'Iris-versicolor', 'Iris-virginica', 'Iris-setosa', 'Iris-setosa'],\n",
       "      dtype=object)"
      ]
     },
     "execution_count": 11,
     "metadata": {},
     "output_type": "execute_result"
    }
   ],
   "source": [
    "y_pred"
   ]
  },
  {
   "cell_type": "code",
   "execution_count": null,
   "id": "b1bd7fb1",
   "metadata": {},
   "outputs": [],
   "source": []
  }
 ],
 "metadata": {
  "kernelspec": {
   "display_name": "Python 3 (ipykernel)",
   "language": "python",
   "name": "python3"
  },
  "language_info": {
   "codemirror_mode": {
    "name": "ipython",
    "version": 3
   },
   "file_extension": ".py",
   "mimetype": "text/x-python",
   "name": "python",
   "nbconvert_exporter": "python",
   "pygments_lexer": "ipython3",
   "version": "3.7.2"
  }
 },
 "nbformat": 4,
 "nbformat_minor": 5
}

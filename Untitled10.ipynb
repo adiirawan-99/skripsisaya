{
 "cells": [
  {
   "cell_type": "code",
   "execution_count": 16,
   "id": "921d6dae",
   "metadata": {},
   "outputs": [],
   "source": [
    "from tkinter import *\n",
    "from tkinter import ttk\n",
    "from tkinter import Tk\n",
    "import tkinter as Tk\n",
    "from tkinter import filedialog\n",
    "import os, shutil\n",
    "\n"
   ]
  },
  {
   "cell_type": "code",
   "execution_count": 17,
   "id": "3887d8cc",
   "metadata": {},
   "outputs": [
    {
     "ename": "TypeError",
     "evalue": "module() takes at most 2 arguments (3 given)",
     "output_type": "error",
     "traceback": [
      "\u001b[1;31m---------------------------------------------------------------------------\u001b[0m",
      "\u001b[1;31mTypeError\u001b[0m                                 Traceback (most recent call last)",
      "\u001b[1;32m~\\AppData\\Local\\Temp\\ipykernel_12848\\1179556432.py\u001b[0m in \u001b[0;36m<module>\u001b[1;34m\u001b[0m\n\u001b[1;32m----> 1\u001b[1;33m \u001b[1;32mclass\u001b[0m \u001b[0mRoot\u001b[0m\u001b[1;33m(\u001b[0m\u001b[0mTk\u001b[0m\u001b[1;33m)\u001b[0m\u001b[1;33m:\u001b[0m\u001b[1;33m\u001b[0m\u001b[1;33m\u001b[0m\u001b[0m\n\u001b[0m\u001b[0;32m      2\u001b[0m     \u001b[1;32mdef\u001b[0m \u001b[0m__init__\u001b[0m\u001b[1;33m(\u001b[0m\u001b[0mself\u001b[0m\u001b[1;33m)\u001b[0m\u001b[1;33m:\u001b[0m\u001b[1;33m\u001b[0m\u001b[1;33m\u001b[0m\u001b[0m\n\u001b[0;32m      3\u001b[0m         \u001b[0msuper\u001b[0m\u001b[1;33m(\u001b[0m\u001b[0mRoot\u001b[0m\u001b[1;33m,\u001b[0m\u001b[0mself\u001b[0m\u001b[1;33m)\u001b[0m\u001b[1;33m.\u001b[0m\u001b[0m__init__\u001b[0m\u001b[1;33m(\u001b[0m\u001b[1;33m)\u001b[0m\u001b[1;33m\u001b[0m\u001b[1;33m\u001b[0m\u001b[0m\n\u001b[0;32m      4\u001b[0m         \u001b[0mself\u001b[0m\u001b[1;33m.\u001b[0m\u001b[0mtitle\u001b[0m\u001b[1;33m(\u001b[0m\u001b[1;34m\"thinter Dialog Widget\"\u001b[0m\u001b[1;33m)\u001b[0m\u001b[1;33m\u001b[0m\u001b[1;33m\u001b[0m\u001b[0m\n\u001b[0;32m      5\u001b[0m         \u001b[0mself\u001b[0m\u001b[1;33m.\u001b[0m\u001b[0mminsize\u001b[0m\u001b[1;33m(\u001b[0m\u001b[1;36m640\u001b[0m\u001b[1;33m,\u001b[0m\u001b[1;36m400\u001b[0m\u001b[1;33m)\u001b[0m\u001b[1;33m\u001b[0m\u001b[1;33m\u001b[0m\u001b[0m\n",
      "\u001b[1;31mTypeError\u001b[0m: module() takes at most 2 arguments (3 given)"
     ]
    }
   ],
   "source": [
    "class Root(Tk):\n",
    "    def __init__(self):\n",
    "        super(Root,self).__init__()\n",
    "        self.title(\"thinter Dialog Widget\")\n",
    "        self.minsize(640,400)\n",
    "        self.labelFrame = ttk.LabelFrame(self,text=\"Open A File\")\n",
    "        self.labelFrame.grid(column=0,row=1,padx= 20, pady= 20)\n",
    "        self.btton()\n",
    "\n",
    "    def btton(self):\n",
    "        self.button = ttk.Button(self.labelFrame, text=\"Browse Afile\", command=self.fileDailog)\n",
    "        self.button.grid(column=1,row=1)\n",
    "\n",
    "    def fileDailog(self):\n",
    "        self.fileName = filedialog.askopenfilename(initialdir = \"/\", title=\"Select A File\",filetype=((\"jpeg\",\"*.jpg\"),(\"png\",\"*.png\")))\n",
    "        self.label = ttk.Label(self.labelFrame, text=\"\")\n",
    "        self.label.grid(column =1,row = 2)\n",
    "        self.label.configure(text = self.fileName)\n",
    "        os.chdir('D:\\\\')\n",
    "        os.system('mkdir BACKUP')\n",
    "        shutil.move(self.fileName,'D:\\\\')\n",
    "\n",
    "    if __name__ == '__main__':\n",
    "        root = Root()\n",
    "        root.mainloop()"
   ]
  },
  {
   "cell_type": "code",
   "execution_count": null,
   "id": "5bdb1b75",
   "metadata": {},
   "outputs": [],
   "source": []
  }
 ],
 "metadata": {
  "kernelspec": {
   "display_name": "Python 3 (ipykernel)",
   "language": "python",
   "name": "python3"
  },
  "language_info": {
   "codemirror_mode": {
    "name": "ipython",
    "version": 3
   },
   "file_extension": ".py",
   "mimetype": "text/x-python",
   "name": "python",
   "nbconvert_exporter": "python",
   "pygments_lexer": "ipython3",
   "version": "3.7.2"
  }
 },
 "nbformat": 4,
 "nbformat_minor": 5
}

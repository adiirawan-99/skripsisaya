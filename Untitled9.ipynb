{
 "cells": [
  {
   "cell_type": "code",
   "execution_count": 27,
   "id": "44bb4cd8",
   "metadata": {},
   "outputs": [],
   "source": [
    "import PIL\n",
    "import tkinter\n",
    "import cv2\n",
    "import tkinter as tk\n",
    "from PIL import Image\n",
    "from PIL import ImageTk\n",
    "import tkinter.filedialog\n"
   ]
  },
  {
   "cell_type": "code",
   "execution_count": 72,
   "id": "7f0e0f1e",
   "metadata": {},
   "outputs": [],
   "source": [
    "window = tk.Tk()\n",
    "\n",
    "frame1 = tk.Frame(master=window, width=720, height=480, bg=\"red\")\n",
    "frame1.pack_propagate(False)\n",
    "frame1.pack(fill=tk.Y, side=tk.LEFT)\n",
    "\n",
    "frame2 = tk.Frame(master=window, width=100, bg=\"yellow\")\n",
    "frame2.pack_propagate(False)\n",
    "frame2.pack(fill=tk.Y, side=tk.LEFT)\n",
    "\n",
    "Label1 = tk.Label(master=frame1, text='Pilih Sesuatu')\n",
    "Label1.pack(side = LEFT)\n",
    "Label1.place(x=0, y=0)\n",
    "\n",
    "p1 = tk.PanedWindow(master=frame1, width=400, height=400, bg=\"green\")\n",
    "p1.pack_propagate(False)\n",
    "p1.pack(side=LEFT)\n",
    "p1.place(x = 20 , y = 50)\n",
    "\n",
    "\n",
    "Button = tk.Button(master=frame2, text='tombol')\n",
    "Button.pack()\n",
    "\n",
    "Button1 = tk.Button(master=frame1, text='tombol')\n",
    "Button1.pack()\n",
    "# Button.place(x=0, y=0)\n",
    "\n",
    "window.mainloop()"
   ]
  },
  {
   "cell_type": "code",
   "execution_count": null,
   "id": "dd162a31",
   "metadata": {},
   "outputs": [],
   "source": []
  },
  {
   "cell_type": "code",
   "execution_count": null,
   "id": "fb27c71d",
   "metadata": {},
   "outputs": [],
   "source": []
  }
 ],
 "metadata": {
  "kernelspec": {
   "display_name": "Python 3 (ipykernel)",
   "language": "python",
   "name": "python3"
  },
  "language_info": {
   "codemirror_mode": {
    "name": "ipython",
    "version": 3
   },
   "file_extension": ".py",
   "mimetype": "text/x-python",
   "name": "python",
   "nbconvert_exporter": "python",
   "pygments_lexer": "ipython3",
   "version": "3.7.2"
  }
 },
 "nbformat": 4,
 "nbformat_minor": 5
}

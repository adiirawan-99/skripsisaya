{
 "cells": [
  {
   "cell_type": "code",
   "execution_count": 5,
   "id": "51bf5c6a",
   "metadata": {},
   "outputs": [],
   "source": [
    "import numpy as np\n",
    "import matplotlib.pyplot as plt\n",
    "from skimage.io import imread, imshow\n",
    "from skimage.color import rgb2gray, rgb2hsv\n",
    "from skimage.morphology import area_opening\n",
    "from skimage.exposure import histogram\n",
    "from skimage.filters import threshold_otsu\n",
    "from PIL import Image\n",
    "import os\n",
    "import matplotlib.pyplot as plt\n",
    "import cv2\n",
    "import pickle\n",
    "import pandas as pd"
   ]
  },
  {
   "cell_type": "code",
   "execution_count": 2,
   "id": "d2a9dec4",
   "metadata": {},
   "outputs": [],
   "source": [
    "path = 'Testing'"
   ]
  },
  {
   "cell_type": "code",
   "execution_count": 9,
   "id": "b8fa1224",
   "metadata": {},
   "outputs": [],
   "source": [
    "#Menyimpan gambar setelah proses thresholding ke dalam folder Threshold\n",
    "# save_path = 'Threshold_Testing/'\n",
    "def masked_image(image, mask):\n",
    "    r = image[:,:,0] * mask\n",
    "    g = image[:,:,1] * mask\n",
    "    b = image[:,:,2] * mask\n",
    "    return np.dstack([r,g,b])\n",
    "\n",
    "data_hsv = {}\n",
    "for filename in os.listdir(path):\n",
    "#     if not os.path.isdir(save_path + filename):\n",
    "#         os.mkdir(save_path + filename)\n",
    "    for index, imagename in enumerate(os.listdir(os.path.join(path, filename))):\n",
    "        image = imread(os.path.join(path, filename, imagename))\n",
    "        gray = rgb2gray(image)\n",
    "        thresh = threshold_otsu(gray)\n",
    "        masking  = gray < thresh\n",
    "        filtered = masked_image(image, masking)\n",
    "        image = Image.fromarray(filtered)\n",
    "        image = image.resize((778, 437))\n",
    "        image = np.asarray(image)\n",
    "        \n",
    "#         image = imagegray, image2\n",
    "#         image = cv2.cvtColor(image, cv2.COLOR_RGB2GRAY)\n",
    "        \n",
    "        image = cv2.cvtColor(image, cv2.COLOR_BGR2HSV)\n",
    "        \n",
    "        h,s,v = cv2.split(image)\n",
    "        hmean = h.mean()\n",
    "        smean = s.mean()\n",
    "        vmean = v.mean()\n",
    "        data_hsv[f'{imagename}'] = (hmean, smean, vmean, filename)\n",
    "        \n",
    "#         cv2.imwrite(f'{save_path}/{filename}/{filename}_{index + 1}.jpg', image)\n",
    "        "
   ]
  },
  {
   "cell_type": "code",
   "execution_count": 4,
   "id": "ae935286",
   "metadata": {},
   "outputs": [],
   "source": [
    "file = open('TestingHSV/hsv_valuee.pkl', 'wb')\n",
    "pickle.dump(data_hsv, file)\n",
    "file.close()"
   ]
  },
  {
   "cell_type": "code",
   "execution_count": 4,
   "id": "75c857b1",
   "metadata": {},
   "outputs": [],
   "source": [
    "path_threshold = 'Threshold_Testing'"
   ]
  },
  {
   "cell_type": "code",
   "execution_count": 5,
   "id": "3de7f77b",
   "metadata": {},
   "outputs": [],
   "source": [
    "#Menyimpan Gambar setelah di ubah RGB to HSV ke dalam Folder HSV\n",
    "save_hsv = 'HSV_Testing/'\n",
    "for filename in os.listdir(path_threshold):\n",
    "    if not os.path.isdir(save_hsv + filename):\n",
    "        os.mkdir(save_hsv + filename)\n",
    "    for imagename in os.listdir(os.path.join(path_threshold, filename)):\n",
    "        image = imread(os.path.join(path_threshold, filename, imagename))\n",
    "        \n",
    "        image = cv2.cvtColor(image, cv2.COLOR_BGR2HSV)\n",
    "        \n",
    "        cv2.imwrite(f'{save_hsv}/{filename}/{imagename}', image)"
   ]
  },
  {
   "cell_type": "code",
   "execution_count": 6,
   "id": "714ada0b",
   "metadata": {},
   "outputs": [],
   "source": [
    "path_hsv = 'HSV_Testing/'"
   ]
  },
  {
   "cell_type": "code",
   "execution_count": 7,
   "id": "aa2baeba",
   "metadata": {},
   "outputs": [],
   "source": [
    "#Mencari mean darI Gambar untuk menentukan nilai mean HSV, kemudian menyimpannya ke dalam bentuk array\n",
    "data_hsv = {}\n",
    "for filename in os.listdir(path_hsv):\n",
    "    for imagename in os.listdir(os.path.join(path_hsv, filename)):\n",
    "        image = cv2.imread(os.path.join(path_hsv, filename, imagename))\n",
    "        \n",
    "        h,s,v = cv2.split(image)\n",
    "        hmean = h.mean()\n",
    "        smean = s.mean()\n",
    "        vmean = v.mean()\n",
    "        data_hsv[f'{imagename}'] = (hmean, smean, vmean, filename)"
   ]
  },
  {
   "cell_type": "code",
   "execution_count": 8,
   "id": "d0b85876",
   "metadata": {},
   "outputs": [],
   "source": [
    "#Membuat file dengan ekstensi .pickle\n",
    "file = open('Enkoding/hsv_value_Testing.pkl', 'wb')\n",
    "pickle = pickle.dump(data_hsv, file)\n",
    "file.close()"
   ]
  },
  {
   "cell_type": "code",
   "execution_count": null,
   "id": "c591c9ab",
   "metadata": {},
   "outputs": [],
   "source": []
  }
 ],
 "metadata": {
  "kernelspec": {
   "display_name": "Python 3 (ipykernel)",
   "language": "python",
   "name": "python3"
  },
  "language_info": {
   "codemirror_mode": {
    "name": "ipython",
    "version": 3
   },
   "file_extension": ".py",
   "mimetype": "text/x-python",
   "name": "python",
   "nbconvert_exporter": "python",
   "pygments_lexer": "ipython3",
   "version": "3.7.2"
  }
 },
 "nbformat": 4,
 "nbformat_minor": 5
}

{
 "cells": [
  {
   "cell_type": "code",
   "execution_count": 4,
   "id": "d137b823",
   "metadata": {},
   "outputs": [],
   "source": [
    "import numpy as np\n",
    "import matplotlib.pyplot as plt\n",
    "from skimage.io import imread, imshow\n",
    "from skimage.color import rgb2gray, rgb2hsv\n",
    "from skimage.morphology import area_opening\n",
    "from skimage.exposure import histogram\n",
    "from skimage.filters import threshold_otsu"
   ]
  },
  {
   "cell_type": "code",
   "execution_count": 5,
   "id": "d4c53e39",
   "metadata": {},
   "outputs": [],
   "source": [
    "import os\n",
    "path = 'Dataset'"
   ]
  },
  {
   "cell_type": "code",
   "execution_count": 7,
   "id": "9657d2d6",
   "metadata": {},
   "outputs": [
    {
     "ename": "NameError",
     "evalue": "name 'Image' is not defined",
     "output_type": "error",
     "traceback": [
      "\u001b[1;31m---------------------------------------------------------------------------\u001b[0m",
      "\u001b[1;31mNameError\u001b[0m                                 Traceback (most recent call last)",
      "\u001b[1;32m~\\AppData\\Local\\Temp\\ipykernel_3236\\850971929.py\u001b[0m in \u001b[0;36m<module>\u001b[1;34m\u001b[0m\n\u001b[0;32m     13\u001b[0m         \u001b[0mmasking\u001b[0m  \u001b[1;33m=\u001b[0m \u001b[0mgray\u001b[0m \u001b[1;33m<\u001b[0m \u001b[0mthresh\u001b[0m\u001b[1;33m\u001b[0m\u001b[1;33m\u001b[0m\u001b[0m\n\u001b[0;32m     14\u001b[0m         \u001b[0mfiltered\u001b[0m \u001b[1;33m=\u001b[0m \u001b[0mmasked_image\u001b[0m\u001b[1;33m(\u001b[0m\u001b[0mimage\u001b[0m\u001b[1;33m,\u001b[0m \u001b[0mmasking\u001b[0m\u001b[1;33m)\u001b[0m\u001b[1;33m\u001b[0m\u001b[1;33m\u001b[0m\u001b[0m\n\u001b[1;32m---> 15\u001b[1;33m         \u001b[0mimage\u001b[0m \u001b[1;33m=\u001b[0m \u001b[0mImage\u001b[0m\u001b[1;33m.\u001b[0m\u001b[0mfromarray\u001b[0m\u001b[1;33m(\u001b[0m\u001b[0mfiltered\u001b[0m\u001b[1;33m)\u001b[0m\u001b[1;33m\u001b[0m\u001b[1;33m\u001b[0m\u001b[0m\n\u001b[0m\u001b[0;32m     16\u001b[0m         \u001b[0mimage\u001b[0m \u001b[1;33m=\u001b[0m \u001b[0mimage\u001b[0m\u001b[1;33m.\u001b[0m\u001b[0mresize\u001b[0m\u001b[1;33m(\u001b[0m\u001b[1;33m(\u001b[0m\u001b[1;36m260\u001b[0m\u001b[1;33m,\u001b[0m \u001b[1;36m146\u001b[0m\u001b[1;33m)\u001b[0m\u001b[1;33m)\u001b[0m\u001b[1;33m\u001b[0m\u001b[1;33m\u001b[0m\u001b[0m\n\u001b[0;32m     17\u001b[0m         \u001b[0mimage\u001b[0m \u001b[1;33m=\u001b[0m \u001b[0mnp\u001b[0m\u001b[1;33m.\u001b[0m\u001b[0masarray\u001b[0m\u001b[1;33m(\u001b[0m\u001b[0mimage\u001b[0m\u001b[1;33m)\u001b[0m\u001b[1;33m\u001b[0m\u001b[1;33m\u001b[0m\u001b[0m\n",
      "\u001b[1;31mNameError\u001b[0m: name 'Image' is not defined"
     ]
    }
   ],
   "source": [
    "#Proses Thresholding\n",
    "def masked_image(image, mask):\n",
    "    r = image[:,:,0] * mask\n",
    "    g = image[:,:,1] * mask\n",
    "    b = image[:,:,2] * mask\n",
    "    return np.dstack([r,g,b])\n",
    "\n",
    "for filename in os.listdir(path):\n",
    "    for imagename in os.listdir(os.path.join(path, filename)):\n",
    "        image = imread(os.path.join(path, filename, imagename))\n",
    "        gray = rgb2gray(image)\n",
    "        thresh = threshold_otsu(gray)\n",
    "        masking  = gray < thresh\n",
    "        filtered = masked_image(image, masking)\n",
    "        image = Image.fromarray(filtered)\n",
    "        image = image.resize((260, 146))\n",
    "        image = np.asarray(image)\n",
    "        \n",
    "        rows, cols, _ = filtered.shape\n",
    "        \n",
    "        data_piksel = []\n",
    "        for i in range(rows):\n",
    "            for j in range(cols):\n",
    "                k = filtered[i,j]\n",
    "                r,g,b = k\n",
    "                sum = r + g + b\n",
    "                if sum > 0:\n",
    "                    norm_r = int(r) / (int(r) + int(g) + int(b))\n",
    "                    norm_g = int(g) / (int(r) + int(g) + int(b))\n",
    "                    norm_b = int(b) / (int(r) + int(g) + int(b))\n",
    "                    nilai_v = ''\n",
    "                    #Normalisasi V\n",
    "                    if norm_r > norm_g and norm_r > norm_b:\n",
    "                        maks = norm_r\n",
    "                        nilai_v = 'r'\n",
    "                    elif norm_g > norm_r and norm_g > norm_b:\n",
    "                        maks = norm_g\n",
    "                        nilai_v = 'g'\n",
    "                    else:\n",
    "                        maks = norm_b\n",
    "                        nilai_v = 'b'\n",
    "                    #print(maks)\n",
    "                    #Normalisasi S\n",
    "                    if norm_r < norm_g and norm_r < norm_b:\n",
    "                        minim = norm_r\n",
    "                    elif norm_g < norm_r and norm_g < norm_b:\n",
    "                        minim = norm_g\n",
    "                    else:\n",
    "                        minim = norm_b\n",
    "                    #Menghitung S\n",
    "                    if maks == 0:\n",
    "                        nilai_s = 0\n",
    "                    else: #Nilai V > 0\n",
    "                        nilai_s = maks - (minim/maks)\n",
    "                    #print(nilai_s)\n",
    "                    #Normalisasi H\n",
    "                    if nilai_s == 0:\n",
    "                        nilai_h = 0\n",
    "                    elif nilai_v == 'r':\n",
    "                        nilai_h = 60 * (norm_g - norm_b) / nilai_s * maks\n",
    "                    elif nilai_v == 'g':\n",
    "                        nilai_h = 60 * (2 + (norm_b - norm_r) / nilai_s * nilai_v)\n",
    "                    else:\n",
    "                        nilai_h = 60 * (4 + (norm_r - norm_g) / nilai_s * nilai_v)\n",
    "                    print(nilai_h)\n",
    "        \n",
    "        #print(data_piksel)\n",
    "        \n",
    "        plt.title(filename)\n",
    "        plt.imshow(image)\n",
    "        plt.show()\n",
    "        break"
   ]
  },
  {
   "cell_type": "code",
   "execution_count": null,
   "id": "329097e9",
   "metadata": {},
   "outputs": [],
   "source": []
  }
 ],
 "metadata": {
  "kernelspec": {
   "display_name": "Python 3 (ipykernel)",
   "language": "python",
   "name": "python3"
  },
  "language_info": {
   "codemirror_mode": {
    "name": "ipython",
    "version": 3
   },
   "file_extension": ".py",
   "mimetype": "text/x-python",
   "name": "python",
   "nbconvert_exporter": "python",
   "pygments_lexer": "ipython3",
   "version": "3.7.2"
  }
 },
 "nbformat": 4,
 "nbformat_minor": 5
}
